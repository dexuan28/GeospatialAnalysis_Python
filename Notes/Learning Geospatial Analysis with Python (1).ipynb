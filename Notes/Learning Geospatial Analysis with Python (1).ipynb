{
 "cells": [
  {
   "cell_type": "code",
   "execution_count": 1,
   "metadata": {},
   "outputs": [],
   "source": [
    "#SimpleGIS.py - A Simple GIS"
   ]
  },
  {
   "cell_type": "code",
   "execution_count": 1,
   "metadata": {},
   "outputs": [],
   "source": [
    "import turtle as t"
   ]
  },
  {
   "cell_type": "code",
   "execution_count": 2,
   "metadata": {},
   "outputs": [],
   "source": [
    "# DATA MODEL\n",
    "# All layers will have a name, 1+ points, and population count\n",
    "NAME = 0\n",
    "POINTS = 1\n",
    "POP = 2"
   ]
  },
  {
   "cell_type": "code",
   "execution_count": 3,
   "metadata": {},
   "outputs": [],
   "source": [
    "# Create the state layer\n",
    "state = [\"maharashtra\", [[70, 17], [70,21], [76, 21], [76, 17]], 500]\n",
    "\n",
    "# city = [name, [point], population]\n",
    "cities = []\n",
    "\n",
    "cities.append([\"Pune\",[73.8567,18.5203], 3])\n",
    "cities.append([\"Nashik\",[73.7800,20.0000], 1])\n",
    "cities.append([\"Mumbai\",[72.8258,18.9750], 12])\n",
    "\n",
    "# MAP GRAPHICS RENDERING\n",
    "map_width = 800\n",
    "map_height = 500"
   ]
  },
  {
   "cell_type": "code",
   "execution_count": 4,
   "metadata": {},
   "outputs": [],
   "source": [
    "# State Bounding Box\n",
    "# Use Python min/max function to get bounding box\n",
    "minx = 180\n",
    "maxx = -180\n",
    "miny = 90\n",
    "maxy = -90 \n",
    "for x,y in state[POINTS]:\n",
    "    if x < minx: minx = x\n",
    "    elif x > maxx: maxx = x\n",
    "    if y < miny: miny = y\n",
    "    elif y > maxy: maxy = y\n",
    "# Get earth distance on each axis\n",
    "dist_x = maxx - minx\n",
    "dist_y = maxy - miny\n",
    "\n",
    "# Scaling ratio each axis \n",
    "# to map points from world to screen\n",
    "x_ratio = map_width / dist_x\n",
    "y_ratio = map_height / dist_y"
   ]
  },
  {
   "cell_type": "code",
   "execution_count": 5,
   "metadata": {},
   "outputs": [],
   "source": [
    "# Function to convert lat/lon to screen coordinates\n",
    "def convert(point):\n",
    "    lon = point[0]\n",
    "    lat = point[1]\n",
    "    x = map_width - ((maxx - lon) * x_ratio)\n",
    "    y = map_height - ((maxy - lat) * y_ratio)\n",
    "    # Python turtle graphics start in the middle of the screen\n",
    "    # so we must offset the points so they are centered\n",
    "    x = x - (map_width/2)\n",
    "    y = y - (map_height/2)\n",
    "    return [x,y]"
   ]
  },
  {
   "cell_type": "code",
   "execution_count": 6,
   "metadata": {},
   "outputs": [],
   "source": [
    "# Draw the state\n",
    "t.up()\n",
    "first_pixel = None\n",
    "for point in state[POINTS]:\n",
    "    pixel = convert(point)\n",
    "    if not first_pixel:\n",
    "        first_pixel = pixel\n",
    "    t.goto(pixel)\n",
    "    t.down()\n",
    "t.write(state[NAME], align=\"center\", font=(\"Arial\",16,\"bold\"))\n",
    "\n",
    "# Go back to the first point\n",
    "t.goto(first_pixel)"
   ]
  },
  {
   "cell_type": "code",
   "execution_count": 7,
   "metadata": {},
   "outputs": [],
   "source": [
    "# Draw the cities\n",
    "for city in cities:\n",
    "    pixel = convert(city[POINTS])\n",
    "    t.up()\n",
    "    t.goto(pixel)\n",
    "    # Place a point for the city\n",
    "    t.dot(10)\n",
    "    # Label the city\n",
    "    t.write(city[NAME] + \", Pop.: \" + str(city[POP]), align=\"left\")\n",
    "    t.up()"
   ]
  },
  {
   "cell_type": "code",
   "execution_count": null,
   "metadata": {},
   "outputs": [],
   "source": [
    "# Perform an attribute query\n",
    "# Question: Which city has the largest population?\n",
    "# Write the result but make sure it's under the map\n",
    "biggest_city = max(cities, key=lambda city:city[POP])\n",
    "t.goto(0, -1*((map_height/2)+20))\n",
    "t.write(\"The biggest city is: \" +  biggest_city[NAME])\n",
    "\n",
    "# Perform a spatial query\n",
    "# Question: Which is the western most city?\n",
    "# Write the result but make sure it's under the other question\n",
    "western_city = min(cities, key=lambda city:city[POINTS])\n",
    "t.goto(0, -1*((map_height/2)+40))\n",
    "t.write(\"The western-most city is: \" + western_city[NAME])\n",
    "  \n",
    "# Hide our map pen\n",
    "t.pen(shown=False)\n",
    "t.done()  "
   ]
  },
  {
   "cell_type": "code",
   "execution_count": null,
   "metadata": {},
   "outputs": [],
   "source": []
  },
  {
   "cell_type": "code",
   "execution_count": null,
   "metadata": {},
   "outputs": [],
   "source": []
  }
 ],
 "metadata": {
  "kernelspec": {
   "display_name": "Python 3",
   "language": "python",
   "name": "python3"
  },
  "language_info": {
   "codemirror_mode": {
    "name": "ipython",
    "version": 3
   },
   "file_extension": ".py",
   "mimetype": "text/x-python",
   "name": "python",
   "nbconvert_exporter": "python",
   "pygments_lexer": "ipython3",
   "version": "3.6.6"
  }
 },
 "nbformat": 4,
 "nbformat_minor": 2
}
